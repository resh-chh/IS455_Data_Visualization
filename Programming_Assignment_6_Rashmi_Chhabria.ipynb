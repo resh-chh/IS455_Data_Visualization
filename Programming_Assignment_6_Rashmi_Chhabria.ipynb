{
 "cells": [
  {
   "cell_type": "markdown",
   "id": "d41aec5d",
   "metadata": {},
   "source": [
    "# IS 455 - Data Visualization\n",
    "## Programming Assignment 6 - Rashmi Chhabria"
   ]
  },
  {
   "cell_type": "code",
   "execution_count": 1,
   "id": "e87f1c52",
   "metadata": {},
   "outputs": [],
   "source": [
    "import pandas as pd\n",
    "import bqplot\n",
    "import numpy as np\n",
    "import ipywidgets\n",
    "from bqplot import pyplot as plt"
   ]
  },
  {
   "cell_type": "code",
   "execution_count": 2,
   "id": "15d81584",
   "metadata": {},
   "outputs": [],
   "source": [
    "building_inventory = pd.read_csv(\"building_inventory.csv\")"
   ]
  },
  {
   "cell_type": "code",
   "execution_count": 3,
   "id": "cea6818c",
   "metadata": {
    "scrolled": true
   },
   "outputs": [],
   "source": [
    "# building_inventory.dtypes"
   ]
  },
  {
   "cell_type": "code",
   "execution_count": 4,
   "id": "7df308ed",
   "metadata": {},
   "outputs": [],
   "source": [
    "building_inventory_map = building_inventory.groupby(['Congress Dist', 'Agency Name'])[\"Square Footage\"].sum().unstack()"
   ]
  },
  {
   "cell_type": "code",
   "execution_count": 5,
   "id": "d77d5a1f",
   "metadata": {
    "scrolled": true
   },
   "outputs": [],
   "source": [
    "# building_inventory_map = building_inventory_map.replace(np.nan, 0)\n",
    "# building_inventory_map = building_inventory_map.to_numpy()\n",
    "# building_inventory_map"
   ]
  },
  {
   "cell_type": "code",
   "execution_count": 6,
   "id": "6a1e9e3d",
   "metadata": {},
   "outputs": [],
   "source": [
    "mySelectedLabel = ipywidgets.Label() # start with our label"
   ]
  },
  {
   "cell_type": "code",
   "execution_count": 7,
   "id": "5b224db7",
   "metadata": {},
   "outputs": [],
   "source": [
    "def on_selected(change):\n",
    "    if len(change['owner'].selected) == 1: #only 1 selected\n",
    "        i, j = change['owner'].selected[0] # grab the x/y coordinates\n",
    "        v = building_inventory_map.iloc[i,j] # grab data value at x/y index and mean along z\n",
    "        row_val = building_inventory_map.index[i]\n",
    "        col_val = building_inventory_map.columns[j]\n",
    "        years = building_inventory.loc[(building_inventory['Agency Name'] == col_val) & (building_inventory['Congress Dist'] == row_val), 'Year Acquired'].values\n",
    "        mySelectedLabel.value = 'Total Square Footage = ' + str(v) # set our label\n",
    "        year_criteria = (building_inventory_by_year['Year Acquired'].isin(years))\n",
    "#         line_chart = plt.clear()\n",
    "        line_chart.x = building_inventory_by_year['Year Acquired'][year_criteria]\n",
    "        line_chart.y = building_inventory_by_year['Square Footage'][year_criteria]"
   ]
  },
  {
   "cell_type": "code",
   "execution_count": 8,
   "id": "2ed4707c",
   "metadata": {},
   "outputs": [],
   "source": [
    "# (1) Scales: x/y, colors\n",
    "col_sc = bqplot.ColorScale(scheme = \"Blues\")\n",
    "x_sc = bqplot.LinearScale()\n",
    "y_sc = bqplot.LinearScale()\n",
    "\n",
    "# (2) Axis: x/y, colors\n",
    "c_ax = bqplot.ColorAxis(scale = col_sc, \n",
    "                        orientation = 'vertical', \n",
    "                        side = 'right')\n",
    "\n",
    "x_ax = bqplot.Axis(scale = x_sc, label = 'Agency Name')\n",
    "y_ax = bqplot.Axis(scale = y_sc, \n",
    "                   orientation = 'vertical', label = 'Congress Dist')\n",
    "\n",
    "# (3) Marks: heatmap\n",
    "heat_map = bqplot.GridHeatMap(color = building_inventory_map,\n",
    "                              scales = {'color': col_sc,\n",
    "                                        'row': y_sc,\n",
    "                                        'column': x_sc},\n",
    "                              interactions = {'click': 'select'}, # make interactive on click of each box\n",
    "                              anchor_style = {'fill':'pink'}, # to make our selection blue\n",
    "                              selected_style = {'opacity': 1.0}, # make 100% opaque if box is selected\n",
    "                              unselected_style = {'opacity': 0.8}) # make a little see-through if not\n",
    "\n",
    "# (4) Link selection on heatmap to other things\n",
    "heat_map.observe(on_selected, 'selected')\n",
    "\n",
    "# (5) Paint heatmap canvas, don't display yet:\n",
    "fig_heatmap = bqplot.Figure(marks = [heat_map], axes = [c_ax, y_ax, x_ax], title = 'Total Square Footage for Agency Name by Congressional Dist')"
   ]
  },
  {
   "cell_type": "code",
   "execution_count": 9,
   "id": "af7ccaa6",
   "metadata": {},
   "outputs": [],
   "source": [
    "fig_heatmap.layout.min_width = '500px'"
   ]
  },
  {
   "cell_type": "code",
   "execution_count": 10,
   "id": "09ef2189",
   "metadata": {},
   "outputs": [],
   "source": [
    "building_inventory_by_year = building_inventory[['Square Footage', 'Year Acquired']]\n",
    "building_inventory_by_year = building_inventory_by_year.groupby(['Year Acquired']).sum()"
   ]
  },
  {
   "cell_type": "code",
   "execution_count": 11,
   "id": "82520164",
   "metadata": {},
   "outputs": [],
   "source": [
    "year_more_than_zero = building_inventory_by_year.index > 0\n",
    "building_inventory_by_year = building_inventory_by_year[year_more_than_zero]\n",
    "building_inventory_by_year = building_inventory_by_year.reset_index()\n",
    "# building_inventory_by_year"
   ]
  },
  {
   "cell_type": "code",
   "execution_count": 12,
   "id": "4583bb67",
   "metadata": {},
   "outputs": [],
   "source": [
    "# (1) Scales: x/y\n",
    "x_sc = bqplot.LinearScale(min = float(building_inventory_by_year['Year Acquired'].min()), max = float(building_inventory_by_year['Year Acquired'].max()))\n",
    "y_sc = bqplot.LinearScale(min = float(building_inventory_by_year['Square Footage'].min()), max = float(building_inventory_by_year['Square Footage'].max()))\n",
    "\n",
    "# (2) Axis: x/y\n",
    "x_ax = bqplot.Axis(scale = x_sc, label = 'Square Footage')\n",
    "y_ax = bqplot.Axis(scale = y_sc, \n",
    "                   orientation = 'vertical', label = 'Year Acquired')\n",
    "\n",
    "# (3) Marks: line chart\n",
    "line_chart = bqplot.Lines(x = building_inventory_by_year['Year Acquired'], y = building_inventory_by_year['Square Footage'],\n",
    "                              scales = {'y': y_sc,\n",
    "                                        'x': x_sc})\n",
    "\n",
    "# (4) Paint line chart canvas, don't display yet:\n",
    "fig = bqplot.Figure(marks = [line_chart], axes = [y_ax, x_ax], title = \"Total Square Footage per Year\")\n",
    "fig.layout.min_width = '500px'\n",
    "# fig"
   ]
  },
  {
   "cell_type": "code",
   "execution_count": 13,
   "id": "f3aa9caa",
   "metadata": {},
   "outputs": [],
   "source": [
    "# fig = plt.figure(title=\"Total Square Footage per Year\")\n",
    "# axes_options = {'x': {'label': 'Year Acquired'}, 'y': {'label': 'Square Footage'}}\n",
    "# line_chart = plt.plot(x = building_inventory_by_year.index, y = building_inventory_by_year['Square Footage'], axes_options=axes_options)\n",
    "# fig.layout.min_width = '500px'\n",
    "# line_chart.stroke_width = 2.5\n",
    "# fig"
   ]
  },
  {
   "cell_type": "code",
   "execution_count": 14,
   "id": "5ab1fa92",
   "metadata": {},
   "outputs": [
    {
     "data": {
      "application/vnd.jupyter.widget-view+json": {
       "model_id": "d906414245be4e88819a901ec52c318b",
       "version_major": 2,
       "version_minor": 0
      },
      "text/plain": [
       "VBox(children=(Label(value=''), HBox(children=(Figure(axes=[ColorAxis(orientation='vertical', scale=ColorScale…"
      ]
     },
     "metadata": {},
     "output_type": "display_data"
    }
   ],
   "source": [
    "# side by side figures\n",
    "figures = ipywidgets.HBox([fig_heatmap, fig])\n",
    "\n",
    "# label on top\n",
    "myDashboard = ipywidgets.VBox([mySelectedLabel, figures])\n",
    "myDashboard"
   ]
  },
  {
   "cell_type": "markdown",
   "id": "318102de",
   "metadata": {},
   "source": [
    "As per the selection in heat map, the line plot updates itself to the years that match the selection criteria.\n",
    "Keeping the x and y ranges static is done by specifying the min and max values which I have set as per the min and max values of the columns. The basic styling I have taken care of is matching the color schemes and specifying labels along with titles. There is definitely a lot more styling that can be done."
   ]
  },
  {
   "cell_type": "code",
   "execution_count": null,
   "id": "9184f9d5",
   "metadata": {},
   "outputs": [],
   "source": []
  }
 ],
 "metadata": {
  "kernelspec": {
   "display_name": "Python 3 (ipykernel)",
   "language": "python",
   "name": "python3"
  },
  "language_info": {
   "codemirror_mode": {
    "name": "ipython",
    "version": 3
   },
   "file_extension": ".py",
   "mimetype": "text/x-python",
   "name": "python",
   "nbconvert_exporter": "python",
   "pygments_lexer": "ipython3",
   "version": "3.8.12"
  }
 },
 "nbformat": 4,
 "nbformat_minor": 5
}
