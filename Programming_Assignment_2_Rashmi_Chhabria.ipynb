{
 "cells": [
  {
   "cell_type": "markdown",
   "id": "f8ba6950",
   "metadata": {},
   "source": [
    "# IS 455 - Data Visualization\n",
    "## Programming Assignment 2 - Rashmi Chhabria"
   ]
  },
  {
   "cell_type": "code",
   "execution_count": 1,
   "id": "a0d8b9fe",
   "metadata": {},
   "outputs": [],
   "source": [
    "# Importing Libraries\n",
    "import pandas as pd"
   ]
  },
  {
   "cell_type": "code",
   "execution_count": 2,
   "id": "efcf0ab2",
   "metadata": {},
   "outputs": [],
   "source": [
    "# On a scale of 1 to 10 (1 is lowest, 10 is highest), rate your experience in the following skills: \n",
    "\n",
    "data = [['General Programming', 8], ['Python', 8], ['Visualization', 4], ['Graphic Design', 1], ['Data Analytics', 3]]\n",
    "\n",
    "dataframe = pd.DataFrame(data, columns=['Skills', 'Rating'])\n",
    "\n",
    "dataframe = dataframe.set_index('Skills')"
   ]
  },
  {
   "cell_type": "code",
   "execution_count": 3,
   "id": "b6dd54c4",
   "metadata": {
    "scrolled": true
   },
   "outputs": [],
   "source": [
    "# Ordering by descending order of ratings\n",
    "dataframe = dataframe.sort_values(by=['Rating'], ascending=False)"
   ]
  },
  {
   "cell_type": "code",
   "execution_count": 4,
   "id": "897427f2",
   "metadata": {},
   "outputs": [
    {
     "data": {
      "text/html": [
       "<div>\n",
       "<style scoped>\n",
       "    .dataframe tbody tr th:only-of-type {\n",
       "        vertical-align: middle;\n",
       "    }\n",
       "\n",
       "    .dataframe tbody tr th {\n",
       "        vertical-align: top;\n",
       "    }\n",
       "\n",
       "    .dataframe thead th {\n",
       "        text-align: right;\n",
       "    }\n",
       "</style>\n",
       "<table border=\"1\" class=\"dataframe\">\n",
       "  <thead>\n",
       "    <tr style=\"text-align: right;\">\n",
       "      <th></th>\n",
       "      <th>Rating</th>\n",
       "    </tr>\n",
       "    <tr>\n",
       "      <th>Skills</th>\n",
       "      <th></th>\n",
       "    </tr>\n",
       "  </thead>\n",
       "  <tbody>\n",
       "    <tr>\n",
       "      <th>General Programming</th>\n",
       "      <td>8</td>\n",
       "    </tr>\n",
       "    <tr>\n",
       "      <th>Python</th>\n",
       "      <td>8</td>\n",
       "    </tr>\n",
       "    <tr>\n",
       "      <th>Visualization</th>\n",
       "      <td>4</td>\n",
       "    </tr>\n",
       "    <tr>\n",
       "      <th>Data Analytics</th>\n",
       "      <td>3</td>\n",
       "    </tr>\n",
       "    <tr>\n",
       "      <th>Graphic Design</th>\n",
       "      <td>1</td>\n",
       "    </tr>\n",
       "  </tbody>\n",
       "</table>\n",
       "</div>"
      ],
      "text/plain": [
       "                     Rating\n",
       "Skills                     \n",
       "General Programming       8\n",
       "Python                    8\n",
       "Visualization             4\n",
       "Data Analytics            3\n",
       "Graphic Design            1"
      ]
     },
     "execution_count": 4,
     "metadata": {},
     "output_type": "execute_result"
    }
   ],
   "source": [
    "dataframe"
   ]
  },
  {
   "cell_type": "code",
   "execution_count": 5,
   "id": "887d8be3",
   "metadata": {},
   "outputs": [
    {
     "data": {
      "text/plain": [
       "<AxesSubplot:xlabel='Skills'>"
      ]
     },
     "execution_count": 5,
     "metadata": {},
     "output_type": "execute_result"
    },
    {
     "data": {
      "image/png": "[encoded data removed]",
      "text/plain": [
       "<Figure size 720x360 with 1 Axes>"
      ]
     },
     "metadata": {
      "needs_background": "light"
     },
     "output_type": "display_data"
    }
   ],
   "source": [
    "# Plotting the ratings in normal line graph\n",
    "dataframe.plot(figsize=(10,5))"
   ]
  },
  {
   "cell_type": "markdown",
   "id": "2f6972a3",
   "metadata": {},
   "source": [
    "### Explanation:\n",
    "#### I chose the line graph to represent my skills in descending order of their ratings since I do not have much experience with visualization and this is the simplest plot. Also, it serves the purpose of showcasing my skills at a glance. Amongst the 5 fields, most of my experience lies in general programming and python,  thanks to IS 597 Programming course I took last semester, however I am keen on turning this graph as close as possible into a straight line at the top by the end of this course by strengthening my analytical and visualization skills."
   ]
  }
 ],
 "metadata": {
  "kernelspec": {
   "display_name": "Python 3 (ipykernel)",
   "language": "python",
   "name": "python3"
  },
  "language_info": {
   "codemirror_mode": {
    "name": "ipython",
    "version": 3
   },
   "file_extension": ".py",
   "mimetype": "text/x-python",
   "name": "python",
   "nbconvert_exporter": "python",
   "pygments_lexer": "ipython3",
   "version": "3.9.6"
  }
 },
 "nbformat": 4,
 "nbformat_minor": 5
}
