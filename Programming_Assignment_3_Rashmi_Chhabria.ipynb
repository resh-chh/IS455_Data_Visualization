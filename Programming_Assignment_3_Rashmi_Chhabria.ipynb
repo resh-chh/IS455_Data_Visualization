{
 "cells": [
  {
   "cell_type": "markdown",
   "id": "7a7bb9f3",
   "metadata": {},
   "source": [
    "# IS 455 - Data Visualization\n",
    "## Programming Assignment 3 - Rashmi Chhabria"
   ]
  },
  {
   "cell_type": "code",
   "execution_count": 1,
   "id": "1ad03360",
   "metadata": {},
   "outputs": [],
   "source": [
    "import matplotlib\n",
    "import matplotlib.pyplot as plt\n",
    "import pandas as pd"
   ]
  },
  {
   "cell_type": "code",
   "execution_count": 2,
   "id": "d404a6e7",
   "metadata": {},
   "outputs": [],
   "source": [
    "# Reading the csv data file\n",
    "game_data = pd.read_csv('https://data.illinois.gov/dataset/2c47ae63-3be1-4985-904b-c5e5f4bf79ee/resource/aa78b062-07b2-40b4-8e24-e23778fa2f01/download/data.csv')"
   ]
  },
  {
   "cell_type": "code",
   "execution_count": 3,
   "id": "780b0c1a",
   "metadata": {},
   "outputs": [],
   "source": [
    "# Deleting invalid rows having zip code value as Online\n",
    "game_data = game_data[game_data['zip_code']!='Online']"
   ]
  },
  {
   "cell_type": "code",
   "execution_count": 4,
   "id": "78b5214a",
   "metadata": {},
   "outputs": [
    {
     "data": {
      "text/html": [
       "<div>\n",
       "<style scoped>\n",
       "    .dataframe tbody tr th:only-of-type {\n",
       "        vertical-align: middle;\n",
       "    }\n",
       "\n",
       "    .dataframe tbody tr th {\n",
       "        vertical-align: top;\n",
       "    }\n",
       "\n",
       "    .dataframe thead th {\n",
       "        text-align: right;\n",
       "    }\n",
       "</style>\n",
       "<table border=\"1\" class=\"dataframe\">\n",
       "  <thead>\n",
       "    <tr style=\"text-align: right;\">\n",
       "      <th></th>\n",
       "      <th>game_name</th>\n",
       "      <th>month</th>\n",
       "      <th>total_ticket_sales</th>\n",
       "      <th>total_ticket_sales_count</th>\n",
       "      <th>year</th>\n",
       "      <th>zip_code</th>\n",
       "    </tr>\n",
       "  </thead>\n",
       "  <tbody>\n",
       "    <tr>\n",
       "      <th>8</th>\n",
       "      <td>EZ Match</td>\n",
       "      <td>January</td>\n",
       "      <td>3344.0</td>\n",
       "      <td>3,344</td>\n",
       "      <td>2017</td>\n",
       "      <td>60002</td>\n",
       "    </tr>\n",
       "    <tr>\n",
       "      <th>9</th>\n",
       "      <td>Instant Rollup</td>\n",
       "      <td>January</td>\n",
       "      <td>364200.0</td>\n",
       "      <td>Not Tracked</td>\n",
       "      <td>2017</td>\n",
       "      <td>60002</td>\n",
       "    </tr>\n",
       "    <tr>\n",
       "      <th>10</th>\n",
       "      <td>Lotto</td>\n",
       "      <td>January</td>\n",
       "      <td>22696.0</td>\n",
       "      <td>6,883</td>\n",
       "      <td>2017</td>\n",
       "      <td>60002</td>\n",
       "    </tr>\n",
       "    <tr>\n",
       "      <th>11</th>\n",
       "      <td>Lucky Day Lotto</td>\n",
       "      <td>January</td>\n",
       "      <td>27941.0</td>\n",
       "      <td>11,913</td>\n",
       "      <td>2017</td>\n",
       "      <td>60002</td>\n",
       "    </tr>\n",
       "    <tr>\n",
       "      <th>12</th>\n",
       "      <td>Mega Millions</td>\n",
       "      <td>January</td>\n",
       "      <td>21131.0</td>\n",
       "      <td>7,693</td>\n",
       "      <td>2017</td>\n",
       "      <td>60002</td>\n",
       "    </tr>\n",
       "    <tr>\n",
       "      <th>...</th>\n",
       "      <td>...</td>\n",
       "      <td>...</td>\n",
       "      <td>...</td>\n",
       "      <td>...</td>\n",
       "      <td>...</td>\n",
       "      <td>...</td>\n",
       "    </tr>\n",
       "    <tr>\n",
       "      <th>995</th>\n",
       "      <td>Pick 4</td>\n",
       "      <td>January</td>\n",
       "      <td>94370.5</td>\n",
       "      <td>128,838</td>\n",
       "      <td>2017</td>\n",
       "      <td>60154</td>\n",
       "    </tr>\n",
       "    <tr>\n",
       "      <th>996</th>\n",
       "      <td>Pick4 Fireball</td>\n",
       "      <td>January</td>\n",
       "      <td>32219.5</td>\n",
       "      <td>45,066</td>\n",
       "      <td>2017</td>\n",
       "      <td>60154</td>\n",
       "    </tr>\n",
       "    <tr>\n",
       "      <th>997</th>\n",
       "      <td>Powerball</td>\n",
       "      <td>January</td>\n",
       "      <td>26680.0</td>\n",
       "      <td>6,664</td>\n",
       "      <td>2017</td>\n",
       "      <td>60154</td>\n",
       "    </tr>\n",
       "    <tr>\n",
       "      <th>998</th>\n",
       "      <td>EZ Match</td>\n",
       "      <td>January</td>\n",
       "      <td>1133.0</td>\n",
       "      <td>1,133</td>\n",
       "      <td>2017</td>\n",
       "      <td>60155</td>\n",
       "    </tr>\n",
       "    <tr>\n",
       "      <th>999</th>\n",
       "      <td>Instant Rollup</td>\n",
       "      <td>January</td>\n",
       "      <td>100650.0</td>\n",
       "      <td>Not Tracked</td>\n",
       "      <td>2017</td>\n",
       "      <td>60155</td>\n",
       "    </tr>\n",
       "  </tbody>\n",
       "</table>\n",
       "<p>992 rows × 6 columns</p>\n",
       "</div>"
      ],
      "text/plain": [
       "           game_name    month  total_ticket_sales total_ticket_sales_count  \\\n",
       "8           EZ Match  January              3344.0                    3,344   \n",
       "9     Instant Rollup  January            364200.0              Not Tracked   \n",
       "10             Lotto  January             22696.0                    6,883   \n",
       "11   Lucky Day Lotto  January             27941.0                   11,913   \n",
       "12    Mega Millions   January             21131.0                    7,693   \n",
       "..               ...      ...                 ...                      ...   \n",
       "995           Pick 4  January             94370.5                  128,838   \n",
       "996   Pick4 Fireball  January             32219.5                   45,066   \n",
       "997        Powerball  January             26680.0                    6,664   \n",
       "998         EZ Match  January              1133.0                    1,133   \n",
       "999   Instant Rollup  January            100650.0              Not Tracked   \n",
       "\n",
       "     year zip_code  \n",
       "8    2017    60002  \n",
       "9    2017    60002  \n",
       "10   2017    60002  \n",
       "11   2017    60002  \n",
       "12   2017    60002  \n",
       "..    ...      ...  \n",
       "995  2017    60154  \n",
       "996  2017    60154  \n",
       "997  2017    60154  \n",
       "998  2017    60155  \n",
       "999  2017    60155  \n",
       "\n",
       "[992 rows x 6 columns]"
      ]
     },
     "execution_count": 4,
     "metadata": {},
     "output_type": "execute_result"
    }
   ],
   "source": [
    "game_data"
   ]
  },
  {
   "cell_type": "code",
   "execution_count": 5,
   "id": "5c3e6271",
   "metadata": {},
   "outputs": [
    {
     "data": {
      "text/plain": [
       "'60002'"
      ]
     },
     "execution_count": 5,
     "metadata": {},
     "output_type": "execute_result"
    }
   ],
   "source": [
    "# Finding the lowest zip code\n",
    "game_data['zip_code'].min()"
   ]
  },
  {
   "cell_type": "code",
   "execution_count": 6,
   "id": "81b1a5f8",
   "metadata": {},
   "outputs": [
    {
     "data": {
      "text/html": [
       "<div>\n",
       "<style scoped>\n",
       "    .dataframe tbody tr th:only-of-type {\n",
       "        vertical-align: middle;\n",
       "    }\n",
       "\n",
       "    .dataframe tbody tr th {\n",
       "        vertical-align: top;\n",
       "    }\n",
       "\n",
       "    .dataframe thead th {\n",
       "        text-align: right;\n",
       "    }\n",
       "</style>\n",
       "<table border=\"1\" class=\"dataframe\">\n",
       "  <thead>\n",
       "    <tr style=\"text-align: right;\">\n",
       "      <th></th>\n",
       "      <th>game_name</th>\n",
       "      <th>month</th>\n",
       "      <th>total_ticket_sales</th>\n",
       "      <th>total_ticket_sales_count</th>\n",
       "      <th>year</th>\n",
       "      <th>zip_code</th>\n",
       "    </tr>\n",
       "  </thead>\n",
       "  <tbody>\n",
       "    <tr>\n",
       "      <th>8</th>\n",
       "      <td>EZ Match</td>\n",
       "      <td>January</td>\n",
       "      <td>3344.0</td>\n",
       "      <td>3,344</td>\n",
       "      <td>2017</td>\n",
       "      <td>60002</td>\n",
       "    </tr>\n",
       "    <tr>\n",
       "      <th>10</th>\n",
       "      <td>Lotto</td>\n",
       "      <td>January</td>\n",
       "      <td>22696.0</td>\n",
       "      <td>6,883</td>\n",
       "      <td>2017</td>\n",
       "      <td>60002</td>\n",
       "    </tr>\n",
       "    <tr>\n",
       "      <th>11</th>\n",
       "      <td>Lucky Day Lotto</td>\n",
       "      <td>January</td>\n",
       "      <td>27941.0</td>\n",
       "      <td>11,913</td>\n",
       "      <td>2017</td>\n",
       "      <td>60002</td>\n",
       "    </tr>\n",
       "    <tr>\n",
       "      <th>12</th>\n",
       "      <td>Mega Millions</td>\n",
       "      <td>January</td>\n",
       "      <td>21131.0</td>\n",
       "      <td>7,693</td>\n",
       "      <td>2017</td>\n",
       "      <td>60002</td>\n",
       "    </tr>\n",
       "    <tr>\n",
       "      <th>13</th>\n",
       "      <td>Pick 3</td>\n",
       "      <td>January</td>\n",
       "      <td>21482.5</td>\n",
       "      <td>19,999</td>\n",
       "      <td>2017</td>\n",
       "      <td>60002</td>\n",
       "    </tr>\n",
       "    <tr>\n",
       "      <th>...</th>\n",
       "      <td>...</td>\n",
       "      <td>...</td>\n",
       "      <td>...</td>\n",
       "      <td>...</td>\n",
       "      <td>...</td>\n",
       "      <td>...</td>\n",
       "    </tr>\n",
       "    <tr>\n",
       "      <th>992</th>\n",
       "      <td>Mega Millions</td>\n",
       "      <td>January</td>\n",
       "      <td>27513.0</td>\n",
       "      <td>9,271</td>\n",
       "      <td>2017</td>\n",
       "      <td>60154</td>\n",
       "    </tr>\n",
       "    <tr>\n",
       "      <th>994</th>\n",
       "      <td>Pick3 Fireball</td>\n",
       "      <td>January</td>\n",
       "      <td>21003.0</td>\n",
       "      <td>25,662</td>\n",
       "      <td>2017</td>\n",
       "      <td>60154</td>\n",
       "    </tr>\n",
       "    <tr>\n",
       "      <th>996</th>\n",
       "      <td>Pick4 Fireball</td>\n",
       "      <td>January</td>\n",
       "      <td>32219.5</td>\n",
       "      <td>45,066</td>\n",
       "      <td>2017</td>\n",
       "      <td>60154</td>\n",
       "    </tr>\n",
       "    <tr>\n",
       "      <th>997</th>\n",
       "      <td>Powerball</td>\n",
       "      <td>January</td>\n",
       "      <td>26680.0</td>\n",
       "      <td>6,664</td>\n",
       "      <td>2017</td>\n",
       "      <td>60154</td>\n",
       "    </tr>\n",
       "    <tr>\n",
       "      <th>998</th>\n",
       "      <td>EZ Match</td>\n",
       "      <td>January</td>\n",
       "      <td>1133.0</td>\n",
       "      <td>1,133</td>\n",
       "      <td>2017</td>\n",
       "      <td>60155</td>\n",
       "    </tr>\n",
       "  </tbody>\n",
       "</table>\n",
       "<p>896 rows × 6 columns</p>\n",
       "</div>"
      ],
      "text/plain": [
       "           game_name    month  total_ticket_sales total_ticket_sales_count  \\\n",
       "8           EZ Match  January              3344.0                    3,344   \n",
       "10             Lotto  January             22696.0                    6,883   \n",
       "11   Lucky Day Lotto  January             27941.0                   11,913   \n",
       "12    Mega Millions   January             21131.0                    7,693   \n",
       "13            Pick 3  January             21482.5                   19,999   \n",
       "..               ...      ...                 ...                      ...   \n",
       "992   Mega Millions   January             27513.0                    9,271   \n",
       "994   Pick3 Fireball  January             21003.0                   25,662   \n",
       "996   Pick4 Fireball  January             32219.5                   45,066   \n",
       "997        Powerball  January             26680.0                    6,664   \n",
       "998         EZ Match  January              1133.0                    1,133   \n",
       "\n",
       "     year zip_code  \n",
       "8    2017    60002  \n",
       "10   2017    60002  \n",
       "11   2017    60002  \n",
       "12   2017    60002  \n",
       "13   2017    60002  \n",
       "..    ...      ...  \n",
       "992  2017    60154  \n",
       "994  2017    60154  \n",
       "996  2017    60154  \n",
       "997  2017    60154  \n",
       "998  2017    60155  \n",
       "\n",
       "[896 rows x 6 columns]"
      ]
     },
     "execution_count": 6,
     "metadata": {},
     "output_type": "execute_result"
    }
   ],
   "source": [
    "# Listing all entries with a sales amount lower than 60000\n",
    "game_data[game_data['total_ticket_sales'] < 60000]"
   ]
  },
  {
   "cell_type": "code",
   "execution_count": 7,
   "id": "23fc9ecf",
   "metadata": {},
   "outputs": [],
   "source": [
    "# Considering only the first 20 entries in the file\n",
    "game_plot = game_data[['total_ticket_sales', 'zip_code']].iloc[0:21]"
   ]
  },
  {
   "cell_type": "code",
   "execution_count": 8,
   "id": "491e0c59",
   "metadata": {
    "scrolled": true
   },
   "outputs": [],
   "source": [
    "# Set Index\n",
    "game_plot = game_plot.set_index('zip_code')"
   ]
  },
  {
   "cell_type": "code",
   "execution_count": 9,
   "id": "a49d85d1",
   "metadata": {},
   "outputs": [
    {
     "data": {
      "text/html": [
       "<div>\n",
       "<style scoped>\n",
       "    .dataframe tbody tr th:only-of-type {\n",
       "        vertical-align: middle;\n",
       "    }\n",
       "\n",
       "    .dataframe tbody tr th {\n",
       "        vertical-align: top;\n",
       "    }\n",
       "\n",
       "    .dataframe thead th {\n",
       "        text-align: right;\n",
       "    }\n",
       "</style>\n",
       "<table border=\"1\" class=\"dataframe\">\n",
       "  <thead>\n",
       "    <tr style=\"text-align: right;\">\n",
       "      <th></th>\n",
       "      <th>total_ticket_sales</th>\n",
       "    </tr>\n",
       "    <tr>\n",
       "      <th>zip_code</th>\n",
       "      <th></th>\n",
       "    </tr>\n",
       "  </thead>\n",
       "  <tbody>\n",
       "    <tr>\n",
       "      <th>60002</th>\n",
       "      <td>500741.0</td>\n",
       "    </tr>\n",
       "    <tr>\n",
       "      <th>60004</th>\n",
       "      <td>491127.0</td>\n",
       "    </tr>\n",
       "    <tr>\n",
       "      <th>60005</th>\n",
       "      <td>3178.0</td>\n",
       "    </tr>\n",
       "  </tbody>\n",
       "</table>\n",
       "</div>"
      ],
      "text/plain": [
       "          total_ticket_sales\n",
       "zip_code                    \n",
       "60002               500741.0\n",
       "60004               491127.0\n",
       "60005                 3178.0"
      ]
     },
     "execution_count": 9,
     "metadata": {},
     "output_type": "execute_result"
    }
   ],
   "source": [
    "# Grouping data to get total sales for every zip code\n",
    "game_zip = game_plot.groupby(['zip_code']).sum()\n",
    "game_zip"
   ]
  },
  {
   "cell_type": "code",
   "execution_count": 10,
   "id": "704b3a2a",
   "metadata": {},
   "outputs": [
    {
     "data": {
      "text/plain": [
       "<AxesSubplot:xlabel='zip_code'>"
      ]
     },
     "execution_count": 10,
     "metadata": {},
     "output_type": "execute_result"
    },
    {
     "data": {
      "image/png": "[encoded data removed]",
      "text/plain": [
       "<Figure size 432x288 with 1 Axes>"
      ]
     },
     "metadata": {
      "needs_background": "light"
     },
     "output_type": "display_data"
    }
   ],
   "source": [
    "# Basic Plot\n",
    "game_zip.plot(rot=90)"
   ]
  },
  {
   "cell_type": "code",
   "execution_count": 11,
   "id": "77783c25",
   "metadata": {
    "scrolled": true
   },
   "outputs": [
    {
     "data": {
      "image/png": "[encoded data removed]",
      "text/plain": [
       "<Figure size 432x288 with 1 Axes>"
      ]
     },
     "metadata": {
      "needs_background": "light"
     },
     "output_type": "display_data"
    }
   ],
   "source": [
    "# Vertical Bar Graph\n",
    "game_zip.plot(kind='bar', ylabel='Sale Amount')\n",
    "plt.show()"
   ]
  },
  {
   "cell_type": "code",
   "execution_count": 12,
   "id": "72f495ce",
   "metadata": {},
   "outputs": [],
   "source": [
    "# Reset Index\n",
    "game_zip = game_zip.reset_index()"
   ]
  },
  {
   "cell_type": "code",
   "execution_count": 13,
   "id": "c0abf441",
   "metadata": {},
   "outputs": [
    {
     "data": {
      "image/png": "[encoded data removed]",
      "text/plain": [
       "<Figure size 720x360 with 1 Axes>"
      ]
     },
     "metadata": {
      "needs_background": "light"
     },
     "output_type": "display_data"
    }
   ],
   "source": [
    "# Horizontal Bar Graph\n",
    "fig, ax = plt.subplots(figsize=(10,5))\n",
    "ax.barh(game_zip.iloc[:,0], game_zip.iloc[:,1], color = 'purple')\n",
    "\n",
    "# Remove axes splines\n",
    "for s in ['top','bottom','left','right']:\n",
    "    ax.spines[s].set_visible(False)\n",
    "\n",
    "# Remove x,y Ticks\n",
    "ax.xaxis.set_ticks_position('none')\n",
    "ax.yaxis.set_ticks_position('none')\n",
    "\n",
    "# Add padding between axes and labels\n",
    "ax.xaxis.set_tick_params(pad=5)\n",
    "ax.yaxis.set_tick_params(pad=10)\n",
    "\n",
    "# Add x,y gridlines\n",
    "ax.grid(b=True, color='grey', linestyle='-.', linewidth=0.5, alpha=0.2)\n",
    "\n",
    "# Show top values \n",
    "ax.invert_yaxis()\n",
    "\n",
    "# Add Plot Title\n",
    "ax.set_title('Sales Amount for Zip Codes',\n",
    "             loc='center', pad=10)\n",
    "\n",
    "# Add Axis Labels\n",
    "ax.set_ylabel('Zip Code')\n",
    "ax.set_xlabel('Sales Amount')\n",
    "\n",
    "# Add annotation to bars\n",
    "for i in ax.patches:\n",
    "    ax.text(i.get_width()+500, i.get_y()+0.5, str(round((i.get_width()), 2)),\n",
    "            fontsize=10, fontweight='bold', color='grey')\n",
    "\n",
    "# Show Plot\n",
    "plt.show()"
   ]
  },
  {
   "cell_type": "markdown",
   "id": "fab6b77e",
   "metadata": {},
   "source": [
    "# Explanation:\n",
    "I chose the horizontal bar plot since there were only 3 distinct zip codes in the selected sample data. A line plot did not seem to highlight the difference of sales in the 3 zip codes as much as individual bars did and since there weren't many bars to plot, I rotated it into a horizontal plot instead of a vertical one. This does not look lengthy as such with the three bars, and I find it to be a clean visualization."
   ]
  }
 ],
 "metadata": {
  "kernelspec": {
   "display_name": "Python 3 (ipykernel)",
   "language": "python",
   "name": "python3"
  },
  "language_info": {
   "codemirror_mode": {
    "name": "ipython",
    "version": 3
   },
   "file_extension": ".py",
   "mimetype": "text/x-python",
   "name": "python",
   "nbconvert_exporter": "python",
   "pygments_lexer": "ipython3",
   "version": "3.9.6"
  }
 },
 "nbformat": 4,
 "nbformat_minor": 5
}
